{
 "cells": [
  {
   "cell_type": "markdown",
   "metadata": {},
   "source": [
    "## Biopython: my personal cheat sheet"
   ]
  },
  {
   "cell_type": "code",
   "execution_count": 1,
   "metadata": {},
   "outputs": [],
   "source": [
    "from Bio.Seq import Seq \n",
    "DNA = Seq(\"ATGCTGGGATATTGA\") #INIT\n",
    "mRNA = DNA.transcribe()      #TRANSCRIBE\n",
    "protein = mRNA.translate()   #TRANSLATE\n",
    "y = DNA[ : : -1 ]              #REVERSE"
   ]
  },
  {
   "cell_type": "code",
   "execution_count": 2,
   "metadata": {},
   "outputs": [
    {
     "name": "stdout",
     "output_type": "stream",
     "text": [
      "DNA:  ATGCTGGGATATTGA \n",
      "mRNA: AUGCUGGGAUAUUGA \n",
      "protein: MLGY* \n",
      "reverse DNA AGTTATAGGGTCGTA\n"
     ]
    }
   ],
   "source": [
    "print('DNA: ',DNA,'\\nmRNA:', mRNA,'\\nprotein:',protein,'\\nreverse DNA',y)"
   ]
  },
  {
   "cell_type": "code",
   "execution_count": 3,
   "metadata": {},
   "outputs": [
    {
     "name": "stdout",
     "output_type": "stream",
     "text": [
      " DNA \t\t\t ATGCTGGGATATTGA\n",
      "  \t\t\t 5' -> 3' \n",
      " reverse complement \t TCAATATCCCAGCAT\n"
     ]
    }
   ],
   "source": [
    "print(' DNA \\t\\t\\t',DNA)\n",
    "print(\"  \\t\\t\\t 5' -> 3' \")\n",
    "print(' reverse complement \\t',DNA.reverse_complement())"
   ]
  },
  {
   "cell_type": "code",
   "execution_count": 4,
   "metadata": {},
   "outputs": [
    {
     "name": "stdout",
     "output_type": "stream",
     "text": [
      "TG\n"
     ]
    }
   ],
   "source": [
    "D1 = DNA[1:3] # Slice\n",
    "print(D1)"
   ]
  },
  {
   "cell_type": "code",
   "execution_count": 5,
   "metadata": {},
   "outputs": [],
   "source": [
    "D = D1 + DNA[4:5] # Sum"
   ]
  },
  {
   "cell_type": "code",
   "execution_count": 6,
   "metadata": {},
   "outputs": [
    {
     "data": {
      "text/plain": [
       "Seq('ACGTT')"
      ]
     },
     "execution_count": 6,
     "metadata": {},
     "output_type": "execute_result"
    }
   ],
   "source": [
    "n = 3\n",
    "y = DNA[::n] # step by n\n",
    "y"
   ]
  },
  {
   "cell_type": "markdown",
   "metadata": {},
   "source": [
    "### GC content"
   ]
  },
  {
   "cell_type": "code",
   "execution_count": 7,
   "metadata": {},
   "outputs": [
    {
     "data": {
      "text/plain": [
       "40.0"
      ]
     },
     "execution_count": 7,
     "metadata": {},
     "output_type": "execute_result"
    }
   ],
   "source": [
    "from Bio.SeqUtils import GC #CONTENT\n",
    "GC(DNA)"
   ]
  },
  {
   "cell_type": "markdown",
   "metadata": {},
   "source": [
    "### OPEN FILE"
   ]
  },
  {
   "cell_type": "markdown",
   "metadata": {},
   "source": [
    "#### FASTA"
   ]
  },
  {
   "cell_type": "code",
   "execution_count": null,
   "metadata": {},
   "outputs": [],
   "source": [
    "from Bio import SeqIO \n",
    "fastaFile =  \"sequences.fasta\"\n",
    "sequences = SeqIO.parse(open(fastaFile),'fasta')\n",
    "for record in sequences: \n",
    "    print(record.id, record.seq)"
   ]
  },
  {
   "cell_type": "markdown",
   "metadata": {},
   "source": [
    "#### FASTQ"
   ]
  },
  {
   "cell_type": "code",
   "execution_count": null,
   "metadata": {},
   "outputs": [],
   "source": [
    "from Bio import SeqIO\n",
    "fastqFile = \"reads.fastq\"data = SeqIO.parse(fastqFile,\"fastq\") \n",
    "for record in data:\n",
    "    print(record) "
   ]
  },
  {
   "cell_type": "markdown",
   "metadata": {},
   "source": [
    "### Arg parse file input"
   ]
  },
  {
   "cell_type": "code",
   "execution_count": null,
   "metadata": {},
   "outputs": [],
   "source": [
    "fastq = sys.argv[1]"
   ]
  },
  {
   "cell_type": "markdown",
   "metadata": {},
   "source": [
    "### PHRED score"
   ]
  },
  {
   "cell_type": "code",
   "execution_count": null,
   "metadata": {},
   "outputs": [],
   "source": [
    "data = SeqIO.parse(fastq,\"fastq\") # examole\n",
    "sum_p = [0] * 2000  #initialize a list of probabilities\n",
    "for record in data:\n",
    "    for i,Q in enumerate(record.letter_annotations[\"phred_quality\"]):\n",
    "        p_err = 10**(-float(Q)/10.0) \n",
    "        sum_p[i] += p_err PHRED to probability\n",
    "sum_p[i]"
   ]
  },
  {
   "cell_type": "markdown",
   "metadata": {},
   "source": [
    "### Get data with bash"
   ]
  },
  {
   "cell_type": "code",
   "execution_count": null,
   "metadata": {},
   "outputs": [],
   "source": [
    "wget http://hendrixlab.cgrb.oregonstate.edu/teaching/sequences.fasta"
   ]
  },
  {
   "cell_type": "markdown",
   "metadata": {},
   "source": [
    "### Get data with Biopython"
   ]
  },
  {
   "cell_type": "code",
   "execution_count": null,
   "metadata": {},
   "outputs": [],
   "source": [
    "from Bio import Entrez\n",
    "Entrez.email = \"example@oregonstate.edu\"\n",
    "p_handle = Entrez.efetch(db=\"protein\", id='4507341', rettype=\"gb\", retmode=\"text\") "
   ]
  },
  {
   "cell_type": "markdown",
   "metadata": {},
   "source": [
    "### Read data from the database"
   ]
  },
  {
   "cell_type": "code",
   "execution_count": null,
   "metadata": {},
   "outputs": [],
   "source": [
    "rec = Entrez.read(Entrez.esearch(db=\"protein\", term=\"NP_003173\"))  \n",
    "p_handle = Entrez.efetch(db=\"protein\", id=rec[\"IdList\"][Choose index], rettype=\"fasta\")\n",
    "print(p_handle.read() )"
   ]
  },
  {
   "cell_type": "markdown",
   "metadata": {},
   "source": [
    "### Motif pattern discovery"
   ]
  },
  {
   "cell_type": "code",
   "execution_count": 39,
   "metadata": {},
   "outputs": [
    {
     "data": {
      "text/plain": [
       "['ACG', 8]"
      ]
     },
     "execution_count": 39,
     "metadata": {},
     "output_type": "execute_result"
    }
   ],
   "source": [
    "from Bio.Seq import Seq\n",
    "from Bio import SeqUtils\n",
    "pattern = Seq(\"ACG\")\n",
    "sequence = Seq(\"TTATGCCGACGAT\")\n",
    "results = SeqUtils.nt_search(str(sequence),pattern)\n",
    "results"
   ]
  }
 ],
 "metadata": {
  "kernelspec": {
   "display_name": "Python 3",
   "language": "python",
   "name": "python3"
  },
  "language_info": {
   "codemirror_mode": {
    "name": "ipython",
    "version": 3
   },
   "file_extension": ".py",
   "mimetype": "text/x-python",
   "name": "python",
   "nbconvert_exporter": "python",
   "pygments_lexer": "ipython3",
   "version": "3.8.5"
  }
 },
 "nbformat": 4,
 "nbformat_minor": 4
}
